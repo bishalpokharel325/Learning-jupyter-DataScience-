{
 "cells": [
  {
   "cell_type": "markdown",
   "metadata": {},
   "source": [
    "#Axis functions"
   ]
  },
  {
   "cell_type": "code",
   "execution_count": 1,
   "metadata": {},
   "outputs": [
    {
     "data": {
      "text/plain": [
       "array([ 6, 15])"
      ]
     },
     "execution_count": 1,
     "metadata": {},
     "output_type": "execute_result"
    }
   ],
   "source": [
    "import numpy as np\n",
    "array1=np.array([[1,2,3],[4,5,6]])\n",
    "array1.sum(axis=1)\n",
    "                 "
   ]
  },
  {
   "cell_type": "code",
   "execution_count": 11,
   "metadata": {},
   "outputs": [
    {
     "name": "stdout",
     "output_type": "stream",
     "text": [
      "[[1 5]\n",
      " [2 6]\n",
      " [3 7]]\n"
     ]
    }
   ],
   "source": [
    "#find transpose of a matrix\n",
    "array2=np.array([[1,2,3],[5,6,7]])\n",
    "array3=array2.transpose()\n",
    "#good practise chai yesari\n",
    "array3=np.transpose(array2)\n",
    "print(array3)"
   ]
  },
  {
   "cell_type": "code",
   "execution_count": 10,
   "metadata": {},
   "outputs": [
    {
     "name": "stdout",
     "output_type": "stream",
     "text": [
      "[[ 15  19  20]\n",
      " [ 63  76  69]\n",
      " [ 91 115 111]]\n"
     ]
    }
   ],
   "source": [
    "#find dot product of two matrix\n",
    "array4=np.array([[1,2,1],[3,4,6],[8,9,7]])\n",
    "array5=array4.dot(array4)\n",
    "#good practise chai yesari\n",
    "array5=np.dot(array4,array4)\n",
    "print(array5)"
   ]
  },
  {
   "cell_type": "code",
   "execution_count": 7,
   "metadata": {},
   "outputs": [
    {
     "name": "stdout",
     "output_type": "stream",
     "text": [
      "[[ -4   2   0]\n",
      " [  6  -6   1]\n",
      " [-25  23  -1]]\n"
     ]
    }
   ],
   "source": [
    "#find out cross products of two matrix\n",
    "array6=np.array([[1,2,3],[4,5,6],[7,8,9]])\n",
    "array7=np.cross(array6,array4)\n",
    "print(array7)"
   ]
  },
  {
   "cell_type": "code",
   "execution_count": 17,
   "metadata": {},
   "outputs": [
    {
     "name": "stdout",
     "output_type": "stream",
     "text": [
      "[[4 5 8]\n",
      " [0 2 7]\n",
      " [4 5 7]]\n",
      "[[4 2 0]\n",
      " [5 4 7]\n",
      " [7 5 8]]\n",
      "[[4 2 0]\n",
      " [5 4 7]\n",
      " [7 5 8]]\n",
      "[[-0.5        -2.66666667  2.33333333]\n",
      " [ 1.5         5.33333333 -4.66666667]\n",
      " [-0.5        -1.          1.        ]]\n"
     ]
    }
   ],
   "source": [
    "#sorting in numpy\n",
    "array8=np.array([[5,4,8],[7,2,0],[4,5,7]])\n",
    "array9=np.sort(array8)\n",
    "array10=np.sort(array8,axis=0)\n",
    "#if you are confident that in this data mergesort algorithm takes less time then use \"kind\" parameter in sort\n",
    "array11=np.sort(array8,axis=0,kind=\"mergesort\")\n",
    "print(array9)\n",
    "print(array10)\n",
    "\n"
   ]
  },
  {
   "cell_type": "code",
   "execution_count": 21,
   "metadata": {},
   "outputs": [
    {
     "name": "stdout",
     "output_type": "stream",
     "text": [
      "[[ 0.15555556  0.13333333 -0.17777778]\n",
      " [-0.54444444  0.03333333  0.62222222]\n",
      " [ 0.3        -0.1        -0.2       ]]\n",
      "[[1.00000000e+00 1.11022302e-16 0.00000000e+00]\n",
      " [0.00000000e+00 1.00000000e+00 0.00000000e+00]\n",
      " [0.00000000e+00 0.00000000e+00 1.00000000e+00]]\n"
     ]
    }
   ],
   "source": [
    "#inverse of any square matrix:\n",
    "array8=np.array([[5,4,8],[7,2,0],[4,5,7]])\n",
    "array11=np.linalg.inv(array8)\n",
    "print(array11)\n",
    "prod=np.dot(array8,array11)\n",
    "print(prod)"
   ]
  },
  {
   "cell_type": "code",
   "execution_count": 24,
   "metadata": {},
   "outputs": [
    {
     "name": "stdout",
     "output_type": "stream",
     "text": [
      "[2. 3.]\n"
     ]
    }
   ],
   "source": [
    "#Solve System of linear equations:\n",
    "#suppose solve equation: 3x+y=9 and x+2y=8:                                                                                                                                                                                              \n",
    "array_unknowns=np.array([[3,1],[1,2]])\n",
    "array_knowns=np.array([9,8])\n",
    "solved_array=np.linalg.solve(array_unknowns,array_knowns)\n",
    "print(solved_array)\n"
   ]
  },
  {
   "cell_type": "code",
   "execution_count": null,
   "metadata": {},
   "outputs": [],
   "source": []
  }
 ],
 "metadata": {
  "kernelspec": {
   "display_name": "Python 3",
   "language": "python",
   "name": "python3"
  },
  "language_info": {
   "codemirror_mode": {
    "name": "ipython",
    "version": 3
   },
   "file_extension": ".py",
   "mimetype": "text/x-python",
   "name": "python",
   "nbconvert_exporter": "python",
   "pygments_lexer": "ipython3",
   "version": "3.8.2"
  }
 },
 "nbformat": 4,
 "nbformat_minor": 4
}
