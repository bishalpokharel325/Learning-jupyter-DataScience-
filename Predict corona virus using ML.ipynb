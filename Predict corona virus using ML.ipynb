{
 "cells": [
  {
   "cell_type": "code",
   "execution_count": 1,
   "metadata": {},
   "outputs": [
    {
     "ename": "ModuleNotFoundError",
     "evalue": "No module named 'pandas'",
     "output_type": "error",
     "traceback": [
      "\u001b[1;31m---------------------------------------------------------------------------\u001b[0m",
      "\u001b[1;31mModuleNotFoundError\u001b[0m                       Traceback (most recent call last)",
      "\u001b[1;32m<ipython-input-1-cf75629d7675>\u001b[0m in \u001b[0;36m<module>\u001b[1;34m\u001b[0m\n\u001b[0;32m      2\u001b[0m \u001b[1;31m#Importing necessary dependencies\u001b[0m\u001b[1;33m\u001b[0m\u001b[1;33m\u001b[0m\u001b[1;33m\u001b[0m\u001b[0m\n\u001b[0;32m      3\u001b[0m \u001b[1;32mimport\u001b[0m \u001b[0mnumpy\u001b[0m \u001b[1;32mas\u001b[0m \u001b[0mnp\u001b[0m\u001b[1;33m\u001b[0m\u001b[1;33m\u001b[0m\u001b[0m\n\u001b[1;32m----> 4\u001b[1;33m \u001b[1;32mimport\u001b[0m \u001b[0mpandas\u001b[0m \u001b[1;32mas\u001b[0m \u001b[0mpd\u001b[0m\u001b[1;33m\u001b[0m\u001b[1;33m\u001b[0m\u001b[0m\n\u001b[0m\u001b[0;32m      5\u001b[0m \u001b[1;32mfrom\u001b[0m \u001b[0mmatplotlib\u001b[0m \u001b[1;32mimport\u001b[0m \u001b[0mpyplot\u001b[0m \u001b[1;32mas\u001b[0m \u001b[0mplt\u001b[0m\u001b[1;33m\u001b[0m\u001b[1;33m\u001b[0m\u001b[0m\n\u001b[0;32m      6\u001b[0m \u001b[1;32mfrom\u001b[0m \u001b[0mmatplotlib\u001b[0m \u001b[1;32mimport\u001b[0m \u001b[0mstyle\u001b[0m\u001b[1;33m\u001b[0m\u001b[1;33m\u001b[0m\u001b[0m\n",
      "\u001b[1;31mModuleNotFoundError\u001b[0m: No module named 'pandas'"
     ]
    }
   ],
   "source": [
    "\"\"\"This program predicts corona virus infection by using machine learning model.\"\"\"\n",
    "#Importing necessary dependencies\n",
    "import numpy as np\n",
    "import pandas as pd\n",
    "from matplotlib import pyplot as plt\n",
    "from matplotlib import style\n",
    "from sklearn.linear_model import LinearRegression\n",
    "from sklearn.svm import SVR\n",
    "from sklearn.model_selection import train_test_split"
   ]
  },
  {
   "cell_type": "code",
   "execution_count": 2,
   "metadata": {},
   "outputs": [],
   "source": [
    "#importing Csv file and store the data into dataFrame \"df\".\n",
    "df=pd.read_csv(\"infected_countries.csv\")\n",
    "# print(df.head())"
   ]
  },
  {
   "cell_type": "code",
   "execution_count": 3,
   "metadata": {},
   "outputs": [
    {
     "name": "stdout",
     "output_type": "stream",
     "text": [
      "Enter Country Name:US\n",
      "Enter no of days of forecast:10\n",
      "Enter % of data you want to train:90\n"
     ]
    }
   ],
   "source": [
    "#Getting necessary inputs from the user\n",
    "country_name=input(\"Enter Country Name:\")\n",
    "forecast_out=int(input(\"Enter no of days of forecast:\"))\n",
    "train_percent=float(input(\"Enter % of data you want to train:\"))"
   ]
  },
  {
   "cell_type": "code",
   "execution_count": 4,
   "metadata": {
    "scrolled": true
   },
   "outputs": [
    {
     "name": "stdout",
     "output_type": "stream",
     "text": [
      "        US\n",
      "0        1\n",
      "1        1\n",
      "2        2\n",
      "3        2\n",
      "4        5\n",
      "..     ...\n",
      "61   43847\n",
      "62   53740\n",
      "63   65778\n",
      "64   83836\n",
      "65  101657\n",
      "\n",
      "[66 rows x 1 columns]\n"
     ]
    },
    {
     "name": "stderr",
     "output_type": "stream",
     "text": [
      "<ipython-input-4-b1ef06703c43>:5: SettingWithCopyWarning: \n",
      "A value is trying to be set on a copy of a slice from a DataFrame.\n",
      "Try using .loc[row_indexer,col_indexer] = value instead\n",
      "\n",
      "See the caveats in the documentation: https://pandas.pydata.org/pandas-docs/stable/user_guide/indexing.html#returning-a-view-versus-a-copy\n",
      "  df1[\"Prediction\"]=df1[[country_name]].shift(-forecast_out)\n"
     ]
    }
   ],
   "source": [
    "#getting dataframe for the country\n",
    "df1=df[[country_name]]\n",
    "print(df1)\n",
    "#create another column (the target for dependent variable) shifted \"n\" days up\n",
    "df1[\"Prediction\"]=df1[[country_name]].shift(-forecast_out)\n",
    "#print new data set\n",
    "# print(df1.tail())"
   ]
  },
  {
   "cell_type": "code",
   "execution_count": 5,
   "metadata": {},
   "outputs": [
    {
     "name": "stdout",
     "output_type": "stream",
     "text": [
      "[[   1]\n",
      " [   1]\n",
      " [   2]\n",
      " [   2]\n",
      " [   5]\n",
      " [   5]\n",
      " [   5]\n",
      " [   5]\n",
      " [   5]\n",
      " [   7]\n",
      " [   8]\n",
      " [   8]\n",
      " [  11]\n",
      " [  11]\n",
      " [  11]\n",
      " [  11]\n",
      " [  11]\n",
      " [  11]\n",
      " [  11]\n",
      " [  11]\n",
      " [  12]\n",
      " [  12]\n",
      " [  13]\n",
      " [  13]\n",
      " [  13]\n",
      " [  13]\n",
      " [  13]\n",
      " [  13]\n",
      " [  13]\n",
      " [  13]\n",
      " [  15]\n",
      " [  15]\n",
      " [  15]\n",
      " [  51]\n",
      " [  51]\n",
      " [  57]\n",
      " [  58]\n",
      " [  60]\n",
      " [  68]\n",
      " [  74]\n",
      " [  98]\n",
      " [ 118]\n",
      " [ 149]\n",
      " [ 217]\n",
      " [ 262]\n",
      " [ 402]\n",
      " [ 518]\n",
      " [ 583]\n",
      " [ 959]\n",
      " [1281]\n",
      " [1663]\n",
      " [2179]\n",
      " [2727]\n",
      " [3499]\n",
      " [4632]\n",
      " [6421]]\n"
     ]
    }
   ],
   "source": [
    "#create the independent data set (X) \n",
    "#convert data frame into numpyarray\n",
    "X=np.array(df1.drop([\"Prediction\"],1))\n",
    "#remove last \"n\" rows\n",
    "X=X[:-forecast_out]\n",
    "print(X)"
   ]
  },
  {
   "cell_type": "code",
   "execution_count": 6,
   "metadata": {},
   "outputs": [
    {
     "name": "stdout",
     "output_type": "stream",
     "text": [
      "[8.00000e+00 8.00000e+00 1.10000e+01 1.10000e+01 1.10000e+01 1.10000e+01\n",
      " 1.10000e+01 1.10000e+01 1.10000e+01 1.10000e+01 1.20000e+01 1.20000e+01\n",
      " 1.30000e+01 1.30000e+01 1.30000e+01 1.30000e+01 1.30000e+01 1.30000e+01\n",
      " 1.30000e+01 1.30000e+01 1.50000e+01 1.50000e+01 1.50000e+01 5.10000e+01\n",
      " 5.10000e+01 5.70000e+01 5.80000e+01 6.00000e+01 6.80000e+01 7.40000e+01\n",
      " 9.80000e+01 1.18000e+02 1.49000e+02 2.17000e+02 2.62000e+02 4.02000e+02\n",
      " 5.18000e+02 5.83000e+02 9.59000e+02 1.28100e+03 1.66300e+03 2.17900e+03\n",
      " 2.72700e+03 3.49900e+03 4.63200e+03 6.42100e+03 7.78300e+03 1.36770e+04\n",
      " 1.91000e+04 2.54890e+04 3.32760e+04 4.38470e+04 5.37400e+04 6.57780e+04\n",
      " 8.38360e+04 1.01657e+05]\n"
     ]
    }
   ],
   "source": [
    "#create the dependent dataset (y)\n",
    "#convert dataframe to an np array (all of the values including NaN's)\n",
    "y=np.array(df1[\"Prediction\"])\n",
    "#Get all of the y values except the last \"n\" rows\n",
    "y=y[:-forecast_out]\n",
    "print(y)"
   ]
  },
  {
   "cell_type": "code",
   "execution_count": 7,
   "metadata": {},
   "outputs": [],
   "source": [
    "#split data into x% training and (100-x)% testing\n",
    "x_train,x_test,y_train,y_test=train_test_split(X,y,test_size=1-train_percent/100)"
   ]
  },
  {
   "cell_type": "code",
   "execution_count": 8,
   "metadata": {},
   "outputs": [
    {
     "data": {
      "text/plain": [
       "SVR(C=1000.0, cache_size=200, coef0=0.0, degree=3, epsilon=0.1, gamma=0.1,\n",
       "    kernel='rbf', max_iter=-1, shrinking=True, tol=0.001, verbose=False)"
      ]
     },
     "execution_count": 8,
     "metadata": {},
     "output_type": "execute_result"
    }
   ],
   "source": [
    "#create and train our model using support vector machine (Regressor)\n",
    "svr_rbf=SVR(kernel=\"rbf\",C=1e3,gamma=0.1)\n",
    "svr_rbf.fit(x_train,y_train)"
   ]
  },
  {
   "cell_type": "code",
   "execution_count": 9,
   "metadata": {},
   "outputs": [
    {
     "name": "stdout",
     "output_type": "stream",
     "text": [
      "svm confidence: 0.38895034339744483\n"
     ]
    }
   ],
   "source": [
    "#testing model: score returns the cofficient of determination of R^2 of the prediction.\n",
    "#The best possible score is 1.0\n",
    "svm_confidence=svr_rbf.score(x_test,y_test)\n",
    "print(\"svm confidence:\",svm_confidence)"
   ]
  },
  {
   "cell_type": "code",
   "execution_count": 10,
   "metadata": {},
   "outputs": [
    {
     "data": {
      "text/plain": [
       "LinearRegression(copy_X=True, fit_intercept=True, n_jobs=None, normalize=False)"
      ]
     },
     "execution_count": 10,
     "metadata": {},
     "output_type": "execute_result"
    }
   ],
   "source": [
    "#create and train the Linear Regression Model\n",
    "lr=LinearRegression()\n",
    "lr.fit(x_train,y_train)"
   ]
  },
  {
   "cell_type": "code",
   "execution_count": 11,
   "metadata": {},
   "outputs": [
    {
     "name": "stdout",
     "output_type": "stream",
     "text": [
      "lr confidence: 0.9228587284054757\n"
     ]
    }
   ],
   "source": [
    "#testing model: score returns the cofficient of determination of R^2 of the prediction.\n",
    "#best possible value is 1.\n",
    "lr_confidence=lr.score(x_test,y_test)\n",
    "print(\"lr confidence:\",lr_confidence)"
   ]
  },
  {
   "cell_type": "code",
   "execution_count": 12,
   "metadata": {},
   "outputs": [
    {
     "name": "stdout",
     "output_type": "stream",
     "text": [
      "[[  7783]\n",
      " [ 13677]\n",
      " [ 19100]\n",
      " [ 25489]\n",
      " [ 33276]\n",
      " [ 43847]\n",
      " [ 53740]\n",
      " [ 65778]\n",
      " [ 83836]\n",
      " [101657]]\n"
     ]
    }
   ],
   "source": [
    "#set x_forecast equal to the last 30 rows of the original data set from the column\n",
    "x_forecast=np.array(df1.drop([\"Prediction\"],1))[-forecast_out:]\n",
    "print(x_forecast)"
   ]
  },
  {
   "cell_type": "code",
   "execution_count": 13,
   "metadata": {},
   "outputs": [
    {
     "name": "stdout",
     "output_type": "stream",
     "text": [
      "[ 136113.71697695  238963.95124617  333595.24076806  445083.21951697\n",
      "  580966.28267518  765430.11478579  938062.85445757 1148125.82020798\n",
      " 1463237.71882244 1774213.97007997]\n"
     ]
    }
   ],
   "source": [
    "#print the linear regression model predictions for the next \"n\" days\n",
    "lr_prediction=lr.predict(x_forecast)\n",
    "print(lr_prediction)"
   ]
  },
  {
   "cell_type": "code",
   "execution_count": 14,
   "metadata": {},
   "outputs": [
    {
     "name": "stdout",
     "output_type": "stream",
     "text": [
      "[2177.08371239 2177.08371239 2177.08371239 2177.08371239 2177.08371239\n",
      " 2177.08371239 2177.08371239 2177.08371239 2177.08371239 2177.08371239]\n"
     ]
    }
   ],
   "source": [
    "#print the support vector regression model predictions for the next \"n\" days\n",
    "svm_prediction=svr_rbf.predict(x_forecast)\n",
    "print(svm_prediction)"
   ]
  },
  {
   "cell_type": "code",
   "execution_count": 15,
   "metadata": {},
   "outputs": [
    {
     "name": "stdout",
     "output_type": "stream",
     "text": [
      "              US  Prediction\n",
      "0   1.000000e+00         8.0\n",
      "1   1.000000e+00         8.0\n",
      "2   2.000000e+00        11.0\n",
      "3   2.000000e+00        11.0\n",
      "4   5.000000e+00        11.0\n",
      "..           ...         ...\n",
      "71  7.654301e+05         NaN\n",
      "72  9.380629e+05         NaN\n",
      "73  1.148126e+06         NaN\n",
      "74  1.463238e+06         NaN\n",
      "75  1.774214e+06         NaN\n",
      "\n",
      "[76 rows x 2 columns]\n"
     ]
    }
   ],
   "source": [
    "#Appending predicted outcomes of linear regression model into original column\n",
    "df_lronly=pd.DataFrame(lr_prediction,columns=[country_name])\n",
    "df_lr=pd.concat([df1,df_lronly],ignore_index=True)\n",
    "print(df_lr)"
   ]
  },
  {
   "cell_type": "code",
   "execution_count": 16,
   "metadata": {},
   "outputs": [
    {
     "name": "stdout",
     "output_type": "stream",
     "text": [
      "             US  Prediction\n",
      "0      1.000000         8.0\n",
      "1      1.000000         8.0\n",
      "2      2.000000        11.0\n",
      "3      2.000000        11.0\n",
      "4      5.000000        11.0\n",
      "..          ...         ...\n",
      "71  2177.083712         NaN\n",
      "72  2177.083712         NaN\n",
      "73  2177.083712         NaN\n",
      "74  2177.083712         NaN\n",
      "75  2177.083712         NaN\n",
      "\n",
      "[76 rows x 2 columns]\n"
     ]
    }
   ],
   "source": [
    "#Appending predicted outcomes of vector regression model into original column\n",
    "df_svmonly=pd.DataFrame(svm_prediction,columns=[country_name])\n",
    "df_svm=pd.concat([df1,df_svmonly],ignore_index=True)\n",
    "print(df_svm)"
   ]
  },
  {
   "cell_type": "code",
   "execution_count": 17,
   "metadata": {},
   "outputs": [
    {
     "data": {
      "image/png": "[encoded data removed]",
      "text/plain": [
       "<Figure size 640x480 with 1 Axes>"
      ]
     },
     "metadata": {},
     "output_type": "display_data"
    }
   ],
   "source": [
    "#plotting the data:\n",
    "style.use(\"classic\")\n",
    "plt.plot(df_lr[country_name],\"r--\",label=\"Predicted using LR model\")\n",
    "plt.plot(df_svm[country_name],\"g--\",label=\"Predicted using SVM model.\")\n",
    "plt.plot(df1[country_name],label=\"Original Data\")\n",
    "plt.title(f\"Corona virus prediction for {country_name}\")\n",
    "plt.xlabel(\"Days\")\n",
    "plt.ylabel(\"No of Confirmed Cases\")\n",
    "plt.legend()\n",
    "plt.show()"
   ]
  },
  {
   "cell_type": "code",
   "execution_count": null,
   "metadata": {},
   "outputs": [],
   "source": []
  }
 ],
 "metadata": {
  "kernelspec": {
   "display_name": "Python 3",
   "language": "python",
   "name": "python3"
  },
  "language_info": {
   "codemirror_mode": {
    "name": "ipython",
    "version": 3
   },
   "file_extension": ".py",
   "mimetype": "text/x-python",
   "name": "python",
   "nbconvert_exporter": "python",
   "pygments_lexer": "ipython3",
   "version": "3.8.3"
  }
 },
 "nbformat": 4,
 "nbformat_minor": 4
}
