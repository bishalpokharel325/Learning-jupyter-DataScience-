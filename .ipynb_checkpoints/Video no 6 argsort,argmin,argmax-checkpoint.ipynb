{
 "cells": [
  {
   "cell_type": "code",
   "execution_count": 3,
   "metadata": {},
   "outputs": [
    {
     "name": "stdout",
     "output_type": "stream",
     "text": [
      "[[4 5 7]\n",
      " [5 6 7]\n",
      " [8 9 6]]\n",
      "[[4 5 7]\n",
      " [5 6 7]\n",
      " [8 9 6]]\n"
     ]
    }
   ],
   "source": [
    "import numpy as np\n",
    "#reshape into new shape\n",
    "array1=np.array([4,5,7,5,6,7,8,9,6])\n",
    "print(array1.reshape(3,3))\n",
    "#best way to do is:\n",
    "array1=np.reshape(array1,(3,3))\n",
    "print(array1)"
   ]
  },
  {
   "cell_type": "code",
   "execution_count": 15,
   "metadata": {},
   "outputs": [
    {
     "name": "stdout",
     "output_type": "stream",
     "text": [
      "[0 1 0 2]\n",
      "[0 1 3]\n",
      "[2 2 2 0]\n",
      "[3 2 2]\n"
     ]
    }
   ],
   "source": [
    "#argsort,argmin,argmax: sorting ko position dene function,argmin: least element ko position, argmax: maxm element ko function\n",
    "array2=np.array([4,5,7,5,0,6,7,8,9,9,6,0])\n",
    "print(np.argsort(array2))\n",
    "print(np.argmin(array2))\n",
    "print(np.argmax(array2))\n",
    "array3=np.reshape(array2,(4,3))\n",
    "#2D array ma argsort use gareko. axis 0 or 1 ma argsort use garna milcha\n",
    "print(array3)\n",
    "print(np.argsort(array3,axis=1))\n",
    "print(np.argsort(array3,axis=0))\n",
    "print(np.argmin(array3,axis=1))\n",
    "print(np.argmin(array3,axis=0))\n",
    "print(np.argmax(array3,axis=1))\n",
    "print(np.argmax(array3,axis=0))\n",
    "\n"
   ]
  },
  {
   "cell_type": "code",
   "execution_count": 23,
   "metadata": {},
   "outputs": [
    {
     "name": "stdout",
     "output_type": "stream",
     "text": [
      "[2. 2.]\n",
      "[10.+0.0000000e+00j -1.+0.0000000e+00j  1.+9.6357437e-09j\n",
      "  1.-9.6357437e-09j]\n"
     ]
    }
   ],
   "source": [
    "#find root of equation: x2-4x+4 and x4-11x3+9x2+11x-10\n",
    "coff1=np.array([1,-4,4])\n",
    "print(np.roots(coff1))\n",
    "coff2=np.array([1,-11,9,11,-10])\n",
    "print(np.roots(coff2))"
   ]
  },
  {
   "cell_type": "code",
   "execution_count": null,
   "metadata": {},
   "outputs": [],
   "source": []
  }
 ],
 "metadata": {
  "kernelspec": {
   "display_name": "Python 3",
   "language": "python",
   "name": "python3"
  },
  "language_info": {
   "codemirror_mode": {
    "name": "ipython",
    "version": 3
   },
   "file_extension": ".py",
   "mimetype": "text/x-python",
   "name": "python",
   "nbconvert_exporter": "python",
   "pygments_lexer": "ipython3",
   "version": "3.8.2"
  }
 },
 "nbformat": 4,
 "nbformat_minor": 4
}
