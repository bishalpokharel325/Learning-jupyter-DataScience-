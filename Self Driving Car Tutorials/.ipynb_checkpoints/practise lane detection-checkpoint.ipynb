{
 "cells": [
  {
   "cell_type": "code",
   "execution_count": 18,
   "metadata": {},
   "outputs": [],
   "source": [
    "import cv2\n",
    "import numpy as np\n",
    "import matplotlib.pyplot as plt"
   ]
  },
  {
   "cell_type": "code",
   "execution_count": 19,
   "metadata": {},
   "outputs": [],
   "source": [
    "image=cv2.imread(\"test_image.jpg\")\n",
    "lane_image=np.copy(image)"
   ]
  },
  {
   "cell_type": "code",
   "execution_count": 20,
   "metadata": {},
   "outputs": [],
   "source": [
    "def canny(image):\n",
    "    gray_image=cv2.cvtColor(image,cv2.COLOR_RGB2GRAY)\n",
    "    smooth_image=cv2.GaussianBlur(gray_image,(5,5),0)\n",
    "    canny=cv2.Canny(smooth_image,50,150)\n",
    "    return canny\n",
    "\n",
    "    "
   ]
  },
  {
   "cell_type": "code",
   "execution_count": 30,
   "metadata": {},
   "outputs": [],
   "source": [
    "def region_of_interest(image):\n",
    "    height=image.shape[0]\n",
    "    polygon=np.array([[(200,height),(1100,height),(550,250)]])\n",
    "    mask=np.zeros_like(image)\n",
    "    cv2.fillPoly(mask,polygon,255)\n",
    "    return mask\n"
   ]
  },
  {
   "cell_type": "code",
   "execution_count": 31,
   "metadata": {},
   "outputs": [
    {
     "data": {
      "text/plain": [
       "32"
      ]
     },
     "execution_count": 31,
     "metadata": {},
     "output_type": "execute_result"
    }
   ],
   "source": [
    "cannied_image=canny(lane_image)\n",
    "masked_image=region_of_interest(cannied_image)\n",
    "cv2.imshow(\"result\",masked_image)\n",
    "cv2.waitKey(0)"
   ]
  },
  {
   "cell_type": "code",
   "execution_count": null,
   "metadata": {},
   "outputs": [],
   "source": []
  }
 ],
 "metadata": {
  "kernelspec": {
   "display_name": "Python 3",
   "language": "python",
   "name": "python3"
  },
  "language_info": {
   "codemirror_mode": {
    "name": "ipython",
    "version": 3
   },
   "file_extension": ".py",
   "mimetype": "text/x-python",
   "name": "python",
   "nbconvert_exporter": "python",
   "pygments_lexer": "ipython3",
   "version": "3.8.3"
  }
 },
 "nbformat": 4,
 "nbformat_minor": 4
}
