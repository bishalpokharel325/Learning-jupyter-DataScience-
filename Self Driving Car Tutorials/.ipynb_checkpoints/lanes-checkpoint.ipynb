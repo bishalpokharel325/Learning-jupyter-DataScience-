{
 "cells": [
  {
   "cell_type": "code",
   "execution_count": 3,
   "metadata": {},
   "outputs": [
    {
     "data": {
      "text/plain": [
       "-1"
      ]
     },
     "execution_count": 3,
     "metadata": {},
     "output_type": "execute_result"
    }
   ],
   "source": [
    "import cv2\n",
    "#1 reading and showing images\n",
    "img=cv2.imread(\"test_image.jpg\")\n",
    "cv2.imshow(\"result\",img)\n",
    "cv2.waitKey(0)\n"
   ]
  },
  {
   "cell_type": "code",
   "execution_count": null,
   "metadata": {},
   "outputs": [],
   "source": [
    "#2 Grayscale and edge detection: identify boundry of object withing images\n",
    "#Edge Detection: identifying sharp changes in intensity (Color) in adjecent pixels\n",
    "#Each pixel has numeric value from 0 to 255\n",
    "#0== no intensity completely black and 255 high intensity === completely white\n",
    "#Gradient: change in brightness in adjecent pixels... strong gradient strong change(0 to 255) and small gradient is small change.. 0 to 15\n",
    "#GrayScale: white line indicates sharp drop in gradient boundry and dark portion indicates uniform gradient\n",
    "#Color Image ma:Each pixel in image is combination of three intensities: Red, Blue and Green\n",
    "#GrayScale type image: Each pixel has only one intensity value(channel) either 0 or 255\n",
    "#processing grayscale channel is faster than processing Normal 3 channels\n"
   ]
  },
  {
   "cell_type": "code",
   "execution_count": 7,
   "metadata": {},
   "outputs": [
    {
     "data": {
      "text/plain": [
       "(704, 1279)"
      ]
     },
     "execution_count": 7,
     "metadata": {},
     "output_type": "execute_result"
    }
   ],
   "source": [
    "import numpy as np\n",
    "lane_img=np.copy(img)\n",
    "gray_img=cv2.cvtColor(lane_img,cv2.COLOR_RGB2GRAY)\n",
    "cv2.imshow(\"gray image\",gray_img)\n",
    "cv2.waitKey(0)\n",
    "# dont do lane_img=img because each changes we make in lane_img will also be reflected in original mutable array\n"
   ]
  },
  {
   "cell_type": "code",
   "execution_count": null,
   "metadata": {},
   "outputs": [],
   "source": []
  }
 ],
 "metadata": {
  "kernelspec": {
   "display_name": "Python 3",
   "language": "python",
   "name": "python3"
  },
  "language_info": {
   "codemirror_mode": {
    "name": "ipython",
    "version": 3
   },
   "file_extension": ".py",
   "mimetype": "text/x-python",
   "name": "python",
   "nbconvert_exporter": "python",
   "pygments_lexer": "ipython3",
   "version": "3.8.2"
  }
 },
 "nbformat": 4,
 "nbformat_minor": 4
}
