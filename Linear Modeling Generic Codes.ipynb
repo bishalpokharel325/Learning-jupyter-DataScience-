{
 "cells": [
  {
   "cell_type": "code",
   "execution_count": 51,
   "metadata": {},
   "outputs": [],
   "source": [
    "#importing Dependencies\n",
    "import numpy as np\n",
    "import pandas as pd\n",
    "from matplotlib import pyplot as plt\n",
    "from sklearn import *\n",
    "from sklearn.model_selection import train_test_split\n",
    "from sklearn.metrics import mean_squared_error"
   ]
  },
  {
   "cell_type": "code",
   "execution_count": 36,
   "metadata": {},
   "outputs": [],
   "source": [
    "#importing data and preprocessing it\n",
    "df=pd.read_csv(\"housing_price.csv\")\n",
    "mean=df[\"bedrooms\"].mean()\n",
    "df=df.fillna({\n",
    "    \"bedrooms\":mean\n",
    "})\n"
   ]
  },
  {
   "cell_type": "code",
   "execution_count": 42,
   "metadata": {},
   "outputs": [],
   "source": [
    "#splitting the Datas into Features and Labels:\n",
    "features=np.array([df[\"area\"],df[\"bedrooms\"],df[\"age\"]])\n",
    "features=features.transpose()\n",
    "labels=np.array(df[\"price\"])\n",
    "x_train,x_test,y_train,y_test=train_test_split(features,labels,test_size=0.2)"
   ]
  },
  {
   "cell_type": "code",
   "execution_count": 43,
   "metadata": {},
   "outputs": [
    {
     "data": {
      "text/plain": [
       "0.8083828644805204"
      ]
     },
     "execution_count": 43,
     "metadata": {},
     "output_type": "execute_result"
    }
   ],
   "source": [
    "#model creation\n",
    "lr=linear_model.LinearRegression()\n",
    "lr.fit(x_train,y_train)\n",
    "confidence=lr.score(x_test,y_test)"
   ]
  },
  {
   "cell_type": "code",
   "execution_count": 49,
   "metadata": {},
   "outputs": [
    {
     "data": {
      "image/png": "[encoded data removed]",
      "text/plain": [
       "<Figure size 432x288 with 1 Axes>"
      ]
     },
     "metadata": {
      "needs_background": "light"
     },
     "output_type": "display_data"
    }
   ],
   "source": [
    "#prediction\n",
    "y_predicted=lr.predict(x_test)\n",
    "\n",
    "plt.plot(x_test,y_predicted,\"r--\",label=\"Predicted Data\")\n",
    "plt.plot(x_test,y_test,label=\"True Data\")\n",
    "plt.show()"
   ]
  },
  {
   "cell_type": "code",
   "execution_count": 55,
   "metadata": {},
   "outputs": [
    {
     "name": "stdout",
     "output_type": "stream",
     "text": [
      "2875454639.8891892\n"
     ]
    }
   ],
   "source": [
    "#Other values print: mean squared value, coefficents, intercepts\n",
    "coeff=lr.coef_\n",
    "inter=lr.intercept_\n",
    "mse=mean_squared_error(y_predicted,y_test)\n",
    "print(mse)"
   ]
  },
  {
   "cell_type": "code",
   "execution_count": null,
   "metadata": {},
   "outputs": [],
   "source": []
  }
 ],
 "metadata": {
  "kernelspec": {
   "display_name": "Python 3",
   "language": "python",
   "name": "python3"
  },
  "language_info": {
   "codemirror_mode": {
    "name": "ipython",
    "version": 3
   },
   "file_extension": ".py",
   "mimetype": "text/x-python",
   "name": "python",
   "nbconvert_exporter": "python",
   "pygments_lexer": "ipython3",
   "version": "3.8.2"
  }
 },
 "nbformat": 4,
 "nbformat_minor": 4
}
