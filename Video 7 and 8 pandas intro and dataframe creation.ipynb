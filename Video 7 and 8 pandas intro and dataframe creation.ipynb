{
 "cells": [
  {
   "cell_type": "code",
   "execution_count": 4,
   "metadata": {},
   "outputs": [
    {
     "name": "stdout",
     "output_type": "stream",
     "text": [
      "Empty DataFrame\n",
      "Columns: []\n",
      "Index: []\n",
      "   0                1                            2           3          4\n",
      "0  1  Bishal Pokharel  bishalpokharel325@gmail.com  9843788704  Pepsicola\n",
      "1  2             Hari               hari@gmial.com   984357878  Pepsicola\n"
     ]
    }
   ],
   "source": [
    "import pandas as pd\n",
    "import numpy as np\n",
    "#Creating empty and dataframe directly from the program\n",
    "df1=pd.DataFrame()\n",
    "print(df1)\n",
    "df2=pd.DataFrame([[\"1\",\"Bishal Pokharel\",\"bishalpokharel325@gmail.com\",\"9843788704\",\"Pepsicola\"],\n",
    "                 [\"2\",\"Hari\",\"hari@gmial.com\",\"984357878\",\"Pepsicola\"]])\n",
    "print(df2)\n"
   ]
  },
  {
   "cell_type": "code",
   "execution_count": 15,
   "metadata": {},
   "outputs": [
    {
     "name": "stdout",
     "output_type": "stream",
     "text": [
      "   Id  Name  Email\n",
      "0   1     2      3\n",
      "1   4     5      6\n",
      "2   7     8      9\n",
      "3   4     5      6\n",
      "4   7     0      2\n",
      "   Id  Name  Email\n",
      "4   7     0      2\n",
      "5   4     5      6\n",
      "6   7     8      9\n",
      "7   4     5      6\n",
      "8   7     0      2\n"
     ]
    }
   ],
   "source": [
    "#Show top and bottom data of data frame using Head and tail\n",
    "df3=pd.DataFrame([[1,2,3],[4,5,6],[7,8,9],[4,5,6],[7,0,2],[4,5,6],[7,8,9],[4,5,6],[7,0,2]],columns=[\"Id\",\"Name\",\"Email\"])\n",
    "df3_head=df3.head()\n",
    "df3_tail=df3.tail()\n",
    "print(df3_head)\n",
    "print(df3_tail)"
   ]
  },
  {
   "cell_type": "code",
   "execution_count": 22,
   "metadata": {},
   "outputs": [
    {
     "data": {
      "text/html": [
       "<div>\n",
       "<style scoped>\n",
       "    .dataframe tbody tr th:only-of-type {\n",
       "        vertical-align: middle;\n",
       "    }\n",
       "\n",
       "    .dataframe tbody tr th {\n",
       "        vertical-align: top;\n",
       "    }\n",
       "\n",
       "    .dataframe thead th {\n",
       "        text-align: right;\n",
       "    }\n",
       "</style>\n",
       "<table border=\"1\" class=\"dataframe\">\n",
       "  <thead>\n",
       "    <tr style=\"text-align: right;\">\n",
       "      <th></th>\n",
       "      <th>Id</th>\n",
       "      <th>Name</th>\n",
       "      <th>Email</th>\n",
       "    </tr>\n",
       "  </thead>\n",
       "  <tbody>\n",
       "    <tr>\n",
       "      <th>5</th>\n",
       "      <td>4</td>\n",
       "      <td>5</td>\n",
       "      <td>6</td>\n",
       "    </tr>\n",
       "    <tr>\n",
       "      <th>6</th>\n",
       "      <td>7</td>\n",
       "      <td>8</td>\n",
       "      <td>9</td>\n",
       "    </tr>\n",
       "    <tr>\n",
       "      <th>7</th>\n",
       "      <td>4</td>\n",
       "      <td>5</td>\n",
       "      <td>6</td>\n",
       "    </tr>\n",
       "  </tbody>\n",
       "</table>\n",
       "</div>"
      ],
      "text/plain": [
       "   Id  Name  Email\n",
       "5   4     5      6\n",
       "6   7     8      9\n",
       "7   4     5      6"
      ]
     },
     "execution_count": 22,
     "metadata": {},
     "output_type": "execute_result"
    }
   ],
   "source": [
    "#access single data from dataFrame\n",
    "df3=pd.DataFrame([[1,2,3],[4,5,6],[7,8,9],[4,5,6],[7,0,2],[4,5,6],[7,8,9],[4,5,6],[7,0,2]],columns=[\"Id\",\"Name\",\"Email\"])\n",
    "#access 3rd row and 1st column\n",
    "# df3.iloc[3,1]\n",
    "#access matrix between 5th row to 6th row and 0th column to 3rd column\n",
    "df3.iloc[5:8,0:3]"
   ]
  },
  {
   "cell_type": "code",
   "execution_count": null,
   "metadata": {},
   "outputs": [],
   "source": []
  }
 ],
 "metadata": {
  "kernelspec": {
   "display_name": "Python 3",
   "language": "python",
   "name": "python3"
  },
  "language_info": {
   "codemirror_mode": {
    "name": "ipython",
    "version": 3
   },
   "file_extension": ".py",
   "mimetype": "text/x-python",
   "name": "python",
   "nbconvert_exporter": "python",
   "pygments_lexer": "ipython3",
   "version": "3.8.2"
  }
 },
 "nbformat": 4,
 "nbformat_minor": 4
}
