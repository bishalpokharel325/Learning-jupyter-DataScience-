{
 "cells": [
  {
   "cell_type": "code",
   "execution_count": 1,
   "metadata": {},
   "outputs": [
    {
     "name": "stdout",
     "output_type": "stream",
     "text": [
      "Array1=\n",
      "[[ 1.  2.  5.  7.]\n",
      " [ 5.  7.  8.  9.]\n",
      " [ 5.  6.  7. 10.]]\n",
      "Shape of array is:(3, 4)\n",
      "The data type of elements of array is:float64\n",
      "The type of variable array1 is <class 'numpy.ndarray'>\n"
     ]
    }
   ],
   "source": [
    "import numpy as np\n",
    "list=[[1,2,5,7],[5,7,8,9],[5,6,7,10]]\n",
    "array1=np.array(list,dtype=\"float64\")\n",
    "print(\"Array1=\")\n",
    "print(array1)\n",
    "print(f\"Shape of array is:{array1.shape}\")\n",
    "print(f\"The data type of elements of array is:{array1.dtype}\")\n",
    "print(f\"The type of variable array1 is {type(array1)}\")"
   ]
  },
  {
   "cell_type": "code",
   "execution_count": 2,
   "metadata": {},
   "outputs": [
    {
     "name": "stdout",
     "output_type": "stream",
     "text": [
      "[[0. 0. 0.]\n",
      " [0. 0. 0.]\n",
      " [0. 0. 0.]\n",
      " [0. 0. 0.]]\n",
      "THe data type of array 1 is float64\n",
      "THe type of variable array2 is <class 'numpy.ndarray'>\n",
      "THe shape of array2 is (4, 3)\n"
     ]
    }
   ],
   "source": [
    "array2=np.zeros((4,3))\n",
    "print(array2)\n",
    "print(f\"THe data type of array 1 is {array2.dtype}\")\n",
    "print(f\"THe type of variable array2 is {type(array2)}\")\n",
    "print(f\"THe shape of array2 is {array2.shape}\")"
   ]
  },
  {
   "cell_type": "code",
   "execution_count": 3,
   "metadata": {},
   "outputs": [
    {
     "name": "stdout",
     "output_type": "stream",
     "text": [
      "Enter size of zero square matrix:2\n",
      "The array3 is:\n",
      "[[0. 0.]\n",
      " [0. 0.]]\n",
      "The data type of array3 is float64\n",
      "THe variable array3 is <class 'numpy.ndarray'>\n",
      "The size of array3 is (2, 2)\n"
     ]
    }
   ],
   "source": [
    "no=int(input(\"Enter size of zero square matrix:\"))\n",
    "array3=np.zeros((no,no))\n",
    "print(\"The array3 is:\")\n",
    "print(array3)\n",
    "print(f\"The data type of array3 is {array3.dtype}\")\n",
    "print(f\"THe variable array3 is {type(array3)}\")\n",
    "print(f\"The size of array3 is {array3.shape}\")\n"
   ]
  },
  {
   "cell_type": "code",
   "execution_count": 4,
   "metadata": {},
   "outputs": [
    {
     "name": "stdout",
     "output_type": "stream",
     "text": [
      "The empty array is:[[ 3.52262572e-303  1.33360298e+241  1.16497569e-310  3.42196482e-210\n",
      "   6.67268208e-313  4.57400437e-308]\n",
      " [ 1.33360306e+241  1.92549898e-310  1.77678572e-176  7.94587955e-313\n",
      "   6.24280976e-308  1.33360308e+241]\n",
      " [ 2.63169918e-310  2.48721655e-075  1.04922745e-312  2.88067937e+214\n",
      "  -4.55907831e-239  4.27777278e-270]\n",
      " [ 7.87691239e-251  4.78064292e-299  5.07928728e-299  4.78064292e-299\n",
      "   4.78064748e-299  5.07928728e-299]\n",
      " [ 4.78064292e-299  4.78064292e-299  4.78064748e-299  3.03453759e-269\n",
      "   3.57057593e-241  2.46377988e-269]\n",
      " [ 1.38470334e-259  1.72779501e-260  3.60254708e-269  1.79117837e-259\n",
      "   7.58369397e-269  3.05783956e-051]]\n",
      "The size of the array is: (6, 6) \n",
      "The variable array4 is : <class 'numpy.ndarray'>\n",
      "Data type for array4 is:float64\n"
     ]
    }
   ],
   "source": [
    "array4=np.empty((6,6))\n",
    "print(f\"The empty array is:{array4}\")\n",
    "print(f\"The size of the array is: {array4.shape} \")\n",
    "print(f\"The variable array4 is : {type(array4)}\")\n",
    "print(f\"Data type for array4 is:{array4.dtype}\")\n"
   ]
  },
  {
   "cell_type": "code",
   "execution_count": 5,
   "metadata": {},
   "outputs": [
    {
     "name": "stdout",
     "output_type": "stream",
     "text": [
      "Enter size of matrix with 1s:5\n",
      "Array5 is:\n",
      "[[1. 1. 1. 1. 1.]\n",
      " [1. 1. 1. 1. 1.]\n",
      " [1. 1. 1. 1. 1.]\n",
      " [1. 1. 1. 1. 1.]\n",
      " [1. 1. 1. 1. 1.]]\n",
      "Size of array5 is:(5, 5)\n",
      "datatype of array5 is:float64\n"
     ]
    }
   ],
   "source": [
    "nos=int(input(\"Enter size of matrix with 1s:\"))\n",
    "array5=np.ones((nos,nos))\n",
    "print(f\"Array5 is:\\n{array5}\")\n",
    "print(f\"Size of array5 is:{array5.shape}\")\n",
    "print(f\"datatype of array5 is:{array5.dtype}\")"
   ]
  },
  {
   "cell_type": "code",
   "execution_count": 6,
   "metadata": {},
   "outputs": [
    {
     "name": "stdout",
     "output_type": "stream",
     "text": [
      "array6=\n",
      "[0 1 2 3 4 5 6] \n",
      "array7=\n",
      "[0. 1. 2. 3. 4. 5. 6.] \n",
      "array8=\n",
      "[2.  2.1 2.2 2.3 2.4 2.5] \n",
      "array9=\n",
      "[10 20 30 40 50]\n"
     ]
    }
   ],
   "source": [
    "array6=np.arange(7)\n",
    "array7=np.arange(7,dtype=\"float64\")\n",
    "array8=np.arange(2,2.55,0.1)\n",
    "array9=np.arange(10,60,10)\n",
    "print(f\"array6=\\n{array6} \\narray7=\\n{array7} \\narray8=\\n{array8} \\narray9=\\n{array9}\")"
   ]
  },
  {
   "cell_type": "code",
   "execution_count": 7,
   "metadata": {},
   "outputs": [
    {
     "name": "stdout",
     "output_type": "stream",
     "text": [
      "[1.  1.6 2.2 2.8 3.4 4. ]\n"
     ]
    }
   ],
   "source": [
    "array10=np.linspace(1,4,6)\n",
    "print(array10)"
   ]
  },
  {
   "cell_type": "code",
   "execution_count": 8,
   "metadata": {},
   "outputs": [
    {
     "name": "stdout",
     "output_type": "stream",
     "text": [
      "[  0.  25.  50.  75. 100.]\n"
     ]
    }
   ],
   "source": [
    "array11=np.linspace(0,100,5)\n",
    "print(array11)"
   ]
  },
  {
   "cell_type": "code",
   "execution_count": null,
   "metadata": {},
   "outputs": [],
   "source": []
  }
 ],
 "metadata": {
  "kernelspec": {
   "display_name": "Python 3",
   "language": "python",
   "name": "python3"
  },
  "language_info": {
   "codemirror_mode": {
    "name": "ipython",
    "version": 3
   },
   "file_extension": ".py",
   "mimetype": "text/x-python",
   "name": "python",
   "nbconvert_exporter": "python",
   "pygments_lexer": "ipython3",
   "version": "3.8.2"
  }
 },
 "nbformat": 4,
 "nbformat_minor": 4
}
